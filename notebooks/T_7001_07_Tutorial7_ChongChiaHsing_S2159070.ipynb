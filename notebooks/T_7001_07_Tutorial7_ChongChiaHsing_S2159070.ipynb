{
 "cells": [
  {
   "attachments": {},
   "cell_type": "markdown",
   "metadata": {},
   "source": [
    "# Data Structure - Heaps"
   ]
  },
  {
   "cell_type": "code",
   "execution_count": 2,
   "metadata": {},
   "outputs": [],
   "source": [
    "import heapq"
   ]
  },
  {
   "cell_type": "code",
   "execution_count": 3,
   "metadata": {},
   "outputs": [
    {
     "name": "stdout",
     "output_type": "stream",
     "text": [
      "[1, 5, 10, 6, 12, 23, 14, 17, 7, 13]\n"
     ]
    }
   ],
   "source": [
    "list_1 = [23,17,14,6,13,10,1,5,7,12]\n",
    "heapq.heapify(list_1)\n",
    "print(list_1)"
   ]
  },
  {
   "cell_type": "code",
   "execution_count": 4,
   "metadata": {},
   "outputs": [
    {
     "name": "stdout",
     "output_type": "stream",
     "text": [
      "[23, 17, 14, 7, 13, 10, 1, 6, 5, 12]\n",
      "10\n"
     ]
    }
   ],
   "source": [
    "heapq._heapify_max(list_1)\n",
    "print(list_1)\n",
    "print(len(list_1))"
   ]
  },
  {
   "cell_type": "code",
   "execution_count": 10,
   "metadata": {},
   "outputs": [
    {
     "name": "stdout",
     "output_type": "stream",
     "text": [
      "[25, 13, 20, 8, 7, 17, 2, 5, 4]\n",
      "A Array: [20, 13, 17, 8, 7, 4, 2, 5]\n",
      "B Array: [25]\n",
      "A Array: [17, 13, 5, 8, 7, 4, 2]\n",
      "B Array: [25, 20]\n",
      "A Array: [13, 8, 5, 2, 7, 4]\n",
      "B Array: [25, 20, 17]\n",
      "A Array: [8, 7, 5, 2, 4]\n",
      "B Array: [25, 20, 17, 13]\n",
      "A Array: [7, 4, 5, 2]\n",
      "B Array: [25, 20, 17, 13, 8]\n",
      "A Array: [5, 4, 2]\n",
      "B Array: [25, 20, 17, 13, 8, 7]\n",
      "A Array: [4, 2]\n",
      "B Array: [25, 20, 17, 13, 8, 7, 5]\n",
      "A Array: [2]\n",
      "B Array: [25, 20, 17, 13, 8, 7, 5, 4]\n",
      "A Array: []\n",
      "B Array: [25, 20, 17, 13, 8, 7, 5, 4, 2]\n"
     ]
    }
   ],
   "source": [
    "A = [5, 13, 2, 25, 7, 17, 20, 8, 4]\n",
    "heapq._heapify_max(A)\n",
    "print(A)\n",
    "B = []\n",
    "B.append(heapq._heappop_max(A))\n",
    "print(f\"A Array: {A}\")\n",
    "print(f\"B Array: {B}\")\n",
    "B.append(heapq._heappop_max(A))\n",
    "print(f\"A Array: {A}\")\n",
    "print(f\"B Array: {B}\")\n",
    "B.append(heapq._heappop_max(A))\n",
    "print(f\"A Array: {A}\")\n",
    "print(f\"B Array: {B}\")\n",
    "B.append(heapq._heappop_max(A))\n",
    "print(f\"A Array: {A}\")\n",
    "print(f\"B Array: {B}\")\n",
    "B.append(heapq._heappop_max(A))\n",
    "print(f\"A Array: {A}\")\n",
    "print(f\"B Array: {B}\")\n",
    "B.append(heapq._heappop_max(A))\n",
    "print(f\"A Array: {A}\")\n",
    "print(f\"B Array: {B}\")\n",
    "B.append(heapq._heappop_max(A))\n",
    "print(f\"A Array: {A}\")\n",
    "print(f\"B Array: {B}\")\n",
    "B.append(heapq._heappop_max(A))\n",
    "print(f\"A Array: {A}\")\n",
    "print(f\"B Array: {B}\")\n",
    "B.append(heapq._heappop_max(A))\n",
    "print(f\"A Array: {A}\")\n",
    "print(f\"B Array: {B}\")"
   ]
  }
 ],
 "metadata": {
  "kernelspec": {
   "display_name": "Python 3",
   "language": "python",
   "name": "python3"
  },
  "language_info": {
   "codemirror_mode": {
    "name": "ipython",
    "version": 3
   },
   "file_extension": ".py",
   "mimetype": "text/x-python",
   "name": "python",
   "nbconvert_exporter": "python",
   "pygments_lexer": "ipython3",
   "version": "3.10.6 (tags/v3.10.6:9c7b4bd, Aug  1 2022, 21:53:49) [MSC v.1932 64 bit (AMD64)]"
  },
  "orig_nbformat": 4,
  "vscode": {
   "interpreter": {
    "hash": "1a6f82ba1b6aeaef8e8c0a00ddca96c81079a464df796276caea7baa85ea39b9"
   }
  }
 },
 "nbformat": 4,
 "nbformat_minor": 2
}
