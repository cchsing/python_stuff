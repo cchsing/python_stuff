{
  "nbformat": 4,
  "nbformat_minor": 0,
  "metadata": {
    "colab": {
      "provenance": []
    },
    "kernelspec": {
      "name": "python3",
      "display_name": "Python 3"
    },
    "language_info": {
      "name": "python"
    }
  },
  "cells": [
    {
      "cell_type": "markdown",
      "source": [
        "# Tutorial 6 \n",
        "\n",
        "## Translate the Java code for Stacks, Queues, and Linked List to Python."
      ],
      "metadata": {
        "id": "dJkt5bURK2VR"
      }
    },
    {
      "cell_type": "markdown",
      "source": [
        "## Stacks\n"
      ],
      "metadata": {
        "id": "WuIDhWksQCsh"
      }
    },
    {
      "cell_type": "code",
      "execution_count": null,
      "metadata": {
        "id": "NZuZQnPzKvTL"
      },
      "outputs": [],
      "source": [
        "class S_Node:\n",
        "  def __init__(self, value):\n",
        "    self.value = value\n",
        "    self.next = None\n",
        "\n",
        "class Stack:\n",
        "  def __init__(self):\n",
        "    self.head = S_Node(\"head\")\n",
        "    self.size = 0\n",
        "  \n",
        "  def __str__(self):\n",
        "    cur = self.head.next\n",
        "    out = \"\"\n",
        "    while cur:\n",
        "      out += str(cur.value) + \"->\"\n",
        "      cur = cur.next\n",
        "    return out[:-2]\n",
        "\n",
        "  def getSize(self):\n",
        "    return self.size\n",
        "\n",
        "  def isEmpty(self):\n",
        "    return self.size == 0\n",
        "  \n",
        "  def peek(self):\n",
        "    if self.isEmpty():\n",
        "      raise Exception(\"Peeking from an empty stack\")\n",
        "    return self.head.next.value\n",
        "\n",
        "  def push(self, value):\n",
        "    node = S_Node(value)\n",
        "    node.next = self.head.next\n",
        "    self.head.next = node\n",
        "    self.size += 1\n",
        "  \n",
        "  def pop(self):\n",
        "    if self.isEmpty():\n",
        "      raise Exception(\"Popping from an empty stack\")\n",
        "    remove = self.head.next\n",
        "    self.head.next = self.head.next.next\n",
        "    self.size -= 1\n",
        "    return remove.value"
      ]
    },
    {
      "cell_type": "code",
      "source": [
        "stack_1 = Stack()\n",
        "for i in range(1,21):\n",
        "  stack_1.push(i)\n",
        "\n",
        "print(stack_1)\n",
        "removed_item = stack_1.pop()\n",
        "print(\"Remove: %s\" % (removed_item))\n",
        "print(stack_1)"
      ],
      "metadata": {
        "colab": {
          "base_uri": "https://localhost:8080/"
        },
        "id": "F5_WKZNGiHOw",
        "outputId": "3dedc54d-a68c-439f-c329-aced3f842403"
      },
      "execution_count": null,
      "outputs": [
        {
          "output_type": "stream",
          "name": "stdout",
          "text": [
            "20->19->18->17->16->15->14->13->12->11->10->9->8->7->6->5->4->3->2->1\n",
            "Remove: 20\n",
            "19->18->17->16->15->14->13->12->11->10->9->8->7->6->5->4->3->2->1\n"
          ]
        }
      ]
    },
    {
      "cell_type": "markdown",
      "source": [
        "## Queue"
      ],
      "metadata": {
        "id": "OQx_UHm7j9Wu"
      }
    },
    {
      "cell_type": "code",
      "source": [
        "class Q_Node:\n",
        "  def __init__(self, data):\n",
        "    self.data = data\n",
        "    self.next = None\n",
        "\n",
        "class Queue:\n",
        "  def __init__(self):\n",
        "    self.head = self.tail = None\n",
        "\n",
        "  def isEmpty(self):\n",
        "    return self.head == None\n",
        "  \n",
        "  def add(self, data):\n",
        "    temp = Q_Node(data)\n",
        "    if self.tail == None:\n",
        "      self.head = self.tail = temp\n",
        "      return\n",
        "    self.tail.next = temp # seems to affect the point for the head as well affect the head data \n",
        "    self.tail = temp # reset the tail.next to null\n",
        "\n",
        "  def remove(self):\n",
        "    if self.isEmpty():\n",
        "      return\n",
        "    temp = self.head\n",
        "    self.head = temp.next\n",
        "\n",
        "    if (self.head == None):\n",
        "      self.tail = None"
      ],
      "metadata": {
        "id": "spnBMlzQiXrU"
      },
      "execution_count": 1,
      "outputs": []
    },
    {
      "cell_type": "code",
      "source": [
        "queue_1 = Queue()\n",
        "for i in range(1,21):\n",
        "  queue_1.add(i)\n",
        "\n",
        "print(\"Queue Head : \" + str(queue_1.head.data))\n",
        "print(\"Remove from queue...\")\n",
        "queue_1.remove()\n",
        "print(\"Queue Head : \" + str(queue_1.head.data))\n",
        "print(\"Queue Tail : \" + str(queue_1.tail.data))\n",
        "print(\"Add to queue...\")\n",
        "queue_1.add(21)\n",
        "print(\"Queue Head : \" + str(queue_1.head.data))\n",
        "print(\"Queue Tail : \" + str(queue_1.tail.data))"
      ],
      "metadata": {
        "colab": {
          "base_uri": "https://localhost:8080/"
        },
        "id": "Soj5N-CgkDfE",
        "outputId": "5ce57608-59a8-4f99-fed0-31fbbf501028"
      },
      "execution_count": 5,
      "outputs": [
        {
          "output_type": "stream",
          "name": "stdout",
          "text": [
            "Queue Head : 1\n",
            "Remove from queue...\n",
            "Queue Head : 2\n",
            "Queue Tail : 20\n",
            "Add to queue...\n",
            "Queue Head : 2\n",
            "Queue Tail : 21\n"
          ]
        }
      ]
    },
    {
      "cell_type": "markdown",
      "source": [
        "## Linked List\n",
        "### Disadvantage\n",
        "- Slow to get nth element - O(n)\n",
        "\n",
        "### Advantage\n",
        "- insert and delete quick \n",
        "  - O(1) prepend\n",
        "  - O(n) append\n",
        "\n",
        "### Insert Method\n",
        "1. check if the given previous node is null or not\n",
        "2. allocate a new node\n",
        "3. assign data to new node\n",
        "4. make the next of new node as the next of previous node\n",
        "5. move the next of the previous node as a new node"
      ],
      "metadata": {
        "id": "hcagEDsCzf_H"
      }
    },
    {
      "cell_type": "code",
      "source": [
        "# Singly Linked List\n",
        "class LL_Node:\n",
        "  def __init__(self, data):\n",
        "    self.data = data\n",
        "    self.next = None\n",
        "\n",
        "class LinkedList:\n",
        "  def __init__(self):\n",
        "    self.head = None\n",
        "  \n",
        "  def printList(self):\n",
        "    temp = self.head\n",
        "    while (temp):\n",
        "      print(temp.data, end=\" \")\n",
        "      temp = temp.next\n",
        "\n",
        "  def prepend(self, new_Data):\n",
        "    new_Node = LL_Node(new_Data)\n",
        "    new_Node.next = self.head\n",
        "    self.head = new_Node\n",
        "\n",
        "  def insertAfter(self, prev_Node, new_Data):\n",
        "    if prev_Node is None:\n",
        "      print(\"The given previous node must be in Linked List.\")\n",
        "      return\n",
        "    new_Node = LL_Node(new_Data)\n",
        "    new_Node.next = prev_Node.next\n",
        "    prev_Node.next = new_Node\n",
        "  \n",
        "  def append(self, new_Data):\n",
        "    new_Node = LL_Node(new_Data)\n",
        "    if self.head is None:\n",
        "      self.head = new_Node\n",
        "      return\n",
        "    last = self.head\n",
        "    while (last.next):\n",
        "      last = last.next\n",
        "    last.next = new_Node\n",
        "  \n",
        "  def deleteNode(self, data):\n",
        "    temp = self.head\n",
        "    if (temp is not None):\n",
        "      if (temp.data == data):\n",
        "        self.head = temp.next\n",
        "        temp = None\n",
        "        return\n",
        "    while (temp is not None):\n",
        "      if temp.data == data:\n",
        "        break\n",
        "      prev = temp\n",
        "      temp = temp.next\n",
        "    if (temp == None):\n",
        "      return\n",
        "    prev.next = temp.next\n",
        "    temp = None"
      ],
      "metadata": {
        "id": "F1mIBiMSzaIR"
      },
      "execution_count": 9,
      "outputs": []
    },
    {
      "cell_type": "code",
      "source": [
        "print(\"Create a Linked List...\")\n",
        "LList_1 = LinkedList()\n",
        "for i in range (1,11,1):\n",
        "  LList_1.append(i)\n",
        "LList_1.printList()\n",
        "print(\"\")\n",
        "print(\"Prepend the Linked List...\")\n",
        "LList_1.prepend(0)\n",
        "LList_1.printList()\n",
        "print(\"\")\n",
        "print(\"Append the Linked List...\")\n",
        "LList_1.append(100)\n",
        "LList_1.printList()\n",
        "print(\"\")\n",
        "print(\"Delete the node of element 8...\")\n",
        "LList_1.deleteNode(8)\n",
        "LList_1.printList()\n",
        "print(\"\")\n"
      ],
      "metadata": {
        "colab": {
          "base_uri": "https://localhost:8080/"
        },
        "id": "GA6FRPmsmJI5",
        "outputId": "3d262157-a4fd-430b-c158-311c342b22f7"
      },
      "execution_count": 15,
      "outputs": [
        {
          "output_type": "stream",
          "name": "stdout",
          "text": [
            "Create a Linked List...\n",
            "1 2 3 4 5 6 7 8 9 10 \n",
            "Prepend the Linked List...\n",
            "0 1 2 3 4 5 6 7 8 9 10 \n",
            "Append the Linked List...\n",
            "0 1 2 3 4 5 6 7 8 9 10 100 \n",
            "Delete the node of element 8...\n",
            "0 1 2 3 4 5 6 7 9 10 100 \n"
          ]
        }
      ]
    }
  ]
}