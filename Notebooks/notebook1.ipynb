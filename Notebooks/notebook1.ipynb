{
 "cells": [
  {
   "attachments": {},
   "cell_type": "markdown",
   "metadata": {},
   "source": [
    "# Python XML Parser - A Roadmap to XML Parsers in Python\n",
    "https://realpython.com/python-xml-parser/ \n"
   ]
  },
  {
   "cell_type": "code",
   "execution_count": 10,
   "metadata": {},
   "outputs": [],
   "source": [
    "from xml.dom.minidom import parse, parseString"
   ]
  },
  {
   "cell_type": "code",
   "execution_count": 11,
   "metadata": {},
   "outputs": [
    {
     "data": {
      "text/plain": [
       "<xml.dom.minidom.Document at 0x1637182f7c0>"
      ]
     },
     "execution_count": 11,
     "metadata": {},
     "output_type": "execute_result"
    }
   ],
   "source": [
    "# Parse XML from a filename\n",
    "document = parse(\"../data/smiley.svg\")\n",
    "document"
   ]
  },
  {
   "cell_type": "code",
   "execution_count": 12,
   "metadata": {},
   "outputs": [],
   "source": [
    "# Parse XML from a file object\n",
    "with open(\"../data/smiley.svg\") as file:\n",
    "    document = parse(file)"
   ]
  },
  {
   "cell_type": "code",
   "execution_count": 13,
   "metadata": {},
   "outputs": [],
   "source": [
    "# Parse XML from a Python string\n",
    "# document = parseString(\"\"\"\n",
    "# <svg>\n",
    "# More content\n",
    "# </svg\n",
    "# \"\"\")"
   ]
  },
  {
   "cell_type": "code",
   "execution_count": 14,
   "metadata": {},
   "outputs": [
    {
     "data": {
      "text/plain": [
       "('1.0', 'UTF-8', False)"
      ]
     },
     "execution_count": 14,
     "metadata": {},
     "output_type": "execute_result"
    }
   ],
   "source": [
    "# Parse XML from a Python string\n",
    "document.version, document.encoding, document.standalone"
   ]
  },
  {
   "cell_type": "code",
   "execution_count": 15,
   "metadata": {},
   "outputs": [
    {
     "data": {
      "text/plain": [
       "[<DOM Text node \"'Hello'\">]"
      ]
     },
     "execution_count": 15,
     "metadata": {},
     "output_type": "execute_result"
    }
   ],
   "source": [
    "# Document Type Definition (DTD)\n",
    "dtd = document.doctype\n",
    "dtd.entities[\"custom_entity\"].childNodes"
   ]
  },
  {
   "cell_type": "code",
   "execution_count": 16,
   "metadata": {},
   "outputs": [
    {
     "data": {
      "text/plain": [
       "<DOM Element: svg at 0x163717f9240>"
      ]
     },
     "execution_count": 16,
     "metadata": {},
     "output_type": "execute_result"
    }
   ],
   "source": [
    "# Document Root\n",
    "document.documentElement"
   ]
  },
  {
   "cell_type": "code",
   "execution_count": 18,
   "metadata": {},
   "outputs": [
    {
     "name": "stdout",
     "output_type": "stream",
     "text": [
      "True\n",
      "True\n"
     ]
    }
   ],
   "source": [
    "print(document.getElementById(\"skin\") is None)\n",
    "print(document.getElementById(\"smiley\") is None)"
   ]
  },
  {
   "cell_type": "code",
   "execution_count": 19,
   "metadata": {},
   "outputs": [],
   "source": [
    "from xml.dom.minidom import Node\n",
    "\n",
    "def set_id_attribute(parent, attribute_name=\"id\"):\n",
    "    if parent.nodeType == Node.ELEMENT_NODE:\n",
    "        if parent.hasAttribute(attribute_name):\n",
    "            parent.setIdAttribute(attribute_name)\n",
    "    for child in parent.childNodes:\n",
    "        set_id_attribute(child, attribute_name)"
   ]
  },
  {
   "cell_type": "code",
   "execution_count": 20,
   "metadata": {},
   "outputs": [],
   "source": [
    "set_id_attribute(document)"
   ]
  },
  {
   "cell_type": "code",
   "execution_count": 22,
   "metadata": {},
   "outputs": [
    {
     "name": "stdout",
     "output_type": "stream",
     "text": [
      "False\n",
      "False\n",
      "<DOM Element: linearGradient at 0x16371940040>\n",
      "<DOM Element: g at 0x16371940280>\n"
     ]
    }
   ],
   "source": [
    "print(document.getElementById(\"skin\") is None)\n",
    "print(document.getElementById(\"smiley\") is None)\n",
    "print(document.getElementById(\"skin\"))\n",
    "print(document.getElementById(\"smiley\"))"
   ]
  },
  {
   "cell_type": "code",
   "execution_count": 23,
   "metadata": {},
   "outputs": [
    {
     "data": {
      "text/plain": [
       "[<DOM Element: ellipse at 0x163719403a0>,\n",
       " <DOM Element: ellipse at 0x16371940430>]"
      ]
     },
     "execution_count": 23,
     "metadata": {},
     "output_type": "execute_result"
    }
   ],
   "source": [
    "document.getElementsByTagName(\"ellipse\")"
   ]
  },
  {
   "cell_type": "code",
   "execution_count": 24,
   "metadata": {},
   "outputs": [
    {
     "data": {
      "text/plain": [
       "[<DOM Element: ellipse at 0x163719403a0>,\n",
       " <DOM Element: ellipse at 0x16371940430>]"
      ]
     },
     "execution_count": 24,
     "metadata": {},
     "output_type": "execute_result"
    }
   ],
   "source": [
    "root = document.documentElement\n",
    "root.getElementsByTagName(\"ellipse\")"
   ]
  },
  {
   "cell_type": "code",
   "execution_count": 25,
   "metadata": {},
   "outputs": [
    {
     "data": {
      "text/plain": [
       "[<DOM Element: inkscape:custom at 0x163717fab90>]"
      ]
     },
     "execution_count": 25,
     "metadata": {},
     "output_type": "execute_result"
    }
   ],
   "source": [
    "document.getElementsByTagNameNS(\"http://www.inkscape.org/namespaces/inkscape\",\"custom\")"
   ]
  },
  {
   "cell_type": "code",
   "execution_count": 26,
   "metadata": {},
   "outputs": [
    {
     "data": {
      "text/plain": [
       "[<DOM Element: inkscape:custom at 0x163717fab90>]"
      ]
     },
     "execution_count": 26,
     "metadata": {},
     "output_type": "execute_result"
    }
   ],
   "source": [
    "document.getElementsByTagNameNS(\"*\", \"custom\")"
   ]
  },
  {
   "cell_type": "code",
   "execution_count": 28,
   "metadata": {},
   "outputs": [
    {
     "name": "stdout",
     "output_type": "stream",
     "text": [
      "<DOM Element: svg at 0x163717f9240>\n",
      "<DOM Text node \"'\\n    '\">\n",
      "<DOM Text node \"'\\n  '\">\n",
      "<DOM Text node \"'\\n  '\">\n",
      "<DOM Text node \"'\\n  '\">\n"
     ]
    }
   ],
   "source": [
    "element = document.getElementById(\"smiley\")\n",
    "print(element.parentNode)\n",
    "print(element.firstChild)\n",
    "print(element.lastChild)\n",
    "print(element.nextSibling)\n",
    "print(element.previousSibling)"
   ]
  },
  {
   "cell_type": "code",
   "execution_count": 33,
   "metadata": {},
   "outputs": [],
   "source": [
    "def remove_whitespace(node):\n",
    "    if node.nodeType == Node.TEXT_NODE:\n",
    "        if node.nodeValue.strip() == \"\":\n",
    "            node.nodeValue = \"\"\n",
    "    for child in node.childNodes:\n",
    "        remove_whitespace(child)"
   ]
  },
  {
   "cell_type": "code",
   "execution_count": 34,
   "metadata": {},
   "outputs": [],
   "source": [
    "remove_whitespace(document)\n",
    "document.normalize()"
   ]
  },
  {
   "cell_type": "code",
   "execution_count": 35,
   "metadata": {},
   "outputs": [
    {
     "name": "stdout",
     "output_type": "stream",
     "text": [
      "<DOM Element: svg at 0x163717f9240>\n",
      "<DOM Comment node \"' Head '\">\n",
      "<DOM Element: path at 0x163719404c0>\n",
      "<DOM Element: text at 0x16371940550>\n",
      "<DOM Element: defs at 0x163717fab00>\n"
     ]
    }
   ],
   "source": [
    "element = document.getElementById(\"smiley\")\n",
    "print(element.parentNode)\n",
    "print(element.firstChild)\n",
    "print(element.lastChild)\n",
    "print(element.nextSibling)\n",
    "print(element.previousSibling)"
   ]
  },
  {
   "cell_type": "code",
   "execution_count": 36,
   "metadata": {},
   "outputs": [
    {
     "data": {
      "text/plain": [
       "[<DOM Comment node \"' Head '\">,\n",
       " <DOM Element: circle at 0x16371940310>,\n",
       " <DOM Comment node \"' Eyes '\">,\n",
       " <DOM Element: ellipse at 0x163719403a0>,\n",
       " <DOM Element: ellipse at 0x16371940430>,\n",
       " <DOM Comment node \"' Mouth '\">,\n",
       " <DOM Element: path at 0x163719404c0>]"
      ]
     },
     "execution_count": 36,
     "metadata": {},
     "output_type": "execute_result"
    }
   ],
   "source": [
    "element.childNodes"
   ]
  },
  {
   "cell_type": "code",
   "execution_count": null,
   "metadata": {},
   "outputs": [],
   "source": []
  }
 ],
 "metadata": {
  "kernelspec": {
   "display_name": "Python 3",
   "language": "python",
   "name": "python3"
  },
  "language_info": {
   "codemirror_mode": {
    "name": "ipython",
    "version": 3
   },
   "file_extension": ".py",
   "mimetype": "text/x-python",
   "name": "python",
   "nbconvert_exporter": "python",
   "pygments_lexer": "ipython3",
   "version": "3.10.6"
  },
  "orig_nbformat": 4,
  "vscode": {
   "interpreter": {
    "hash": "1a6f82ba1b6aeaef8e8c0a00ddca96c81079a464df796276caea7baa85ea39b9"
   }
  }
 },
 "nbformat": 4,
 "nbformat_minor": 2
}
